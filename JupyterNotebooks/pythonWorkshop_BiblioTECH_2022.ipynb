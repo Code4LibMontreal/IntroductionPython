{
 "cells": [
  {
   "cell_type": "markdown",
   "metadata": {},
   "source": [
    "# Python Workshop: BiblioTECH 2022"
   ]
  },
  {
   "cell_type": "code",
   "execution_count": 1,
   "metadata": {},
   "outputs": [
    {
     "name": "stdout",
     "output_type": "stream",
     "text": [
      "Hello Jupyter\n"
     ]
    }
   ],
   "source": [
    "print(\"Hello Jupyter\")"
   ]
  },
  {
   "cell_type": "markdown",
   "metadata": {},
   "source": [
    "# This is a heading\n",
    "\n",
    "## this is a sub-heading\n",
    "\n",
    "this is plain text\n",
    "\n",
    "* This is an unordered list\n",
    "- You can also use dashes.\n",
    "\n",
    "1. This is an ordered list\n",
    "    1.1. With as many levels as you wish\n",
    "\n",
    "Here is a guide to Basic Markdown syntax: https://www.markdownguide.org/basic-syntax/#overview"
   ]
  },
  {
   "cell_type": "markdown",
   "metadata": {},
   "source": [
    "# Variables and Assignment"
   ]
  },
  {
   "cell_type": "markdown",
   "metadata": {},
   "source": [
    "## Use variables to store values\n",
    "### and some data types."
   ]
  },
  {
   "cell_type": "code",
   "execution_count": 1,
   "metadata": {},
   "outputs": [
    {
     "name": "stdout",
     "output_type": "stream",
     "text": [
      "35\n"
     ]
    }
   ],
   "source": [
    "age = 35             #Integers (numbers)\n",
    "first_name = \"Clara\" #Strings (words), use quotation marks.\n",
    "title = \"1984\"       #What would this be?\n",
    "\n",
    "print(age)"
   ]
  },
  {
   "cell_type": "markdown",
   "metadata": {},
   "source": [
    "#### Variable names should:\n",
    "\n",
    "* Have a meaning\n",
    "* Be exempt from spaces, punctuation (except for underscores)\n",
    "* Not start with a digit\n",
    "* Use CamelCase or underscore to separate words.\n",
    "\n",
    "Note: Python is case-sensitive."
   ]
  },
  {
   "cell_type": "code",
   "execution_count": 2,
   "metadata": {},
   "outputs": [
    {
     "name": "stdout",
     "output_type": "stream",
     "text": [
      "Clara is 35 years old\n",
      "Clara is 35 years old\n"
     ]
    }
   ],
   "source": [
    "# Print is a built-in function that prints the function's argument as text.\n",
    "print(\"Clara is 35 years old\")\n",
    "print(first_name, \"is\", age, \"years old\")"
   ]
  },
  {
   "cell_type": "markdown",
   "metadata": {},
   "source": [
    "print(eye_color)"
   ]
  },
  {
   "cell_type": "markdown",
   "metadata": {},
   "source": [
    "## Variables can be used in calculations"
   ]
  },
  {
   "cell_type": "markdown",
   "metadata": {},
   "source": [
    "How could we add 3 to Clara's age?"
   ]
  },
  {
   "cell_type": "code",
   "execution_count": 2,
   "metadata": {},
   "outputs": [
    {
     "name": "stdout",
     "output_type": "stream",
     "text": [
      "38\n"
     ]
    }
   ],
   "source": [
    "age = 35\n",
    "\n",
    "print(age + 3)"
   ]
  },
  {
   "cell_type": "code",
   "execution_count": 3,
   "metadata": {},
   "outputs": [
    {
     "name": "stdout",
     "output_type": "stream",
     "text": [
      "38\n"
     ]
    }
   ],
   "source": [
    "age = 35\n",
    "age = age + 3\n",
    "\n",
    "print(age)"
   ]
  },
  {
   "cell_type": "code",
   "execution_count": 5,
   "metadata": {},
   "outputs": [
    {
     "name": "stdout",
     "output_type": "stream",
     "text": [
      "38 35\n"
     ]
    }
   ],
   "source": [
    "age = 35\n",
    "age_plus_three = age + 3\n",
    "\n",
    "print(age_plus_three, age)"
   ]
  },
  {
   "cell_type": "markdown",
   "metadata": {},
   "source": [
    "# Built-in functions and methods"
   ]
  },
  {
   "cell_type": "markdown",
   "metadata": {},
   "source": [
    "* A function may take zero or more arguments <br>\n",
    "An argument is a value passed into a function in the parenthesis (). Parenthesis tell Python you are using a function.\n",
    "\n",
    "* Every function returns something <br>\n",
    "If the function doesn't have a useful result to return, it usually returns a \"None\" value.\n"
   ]
  },
  {
   "cell_type": "markdown",
   "metadata": {},
   "source": [
    "## Len() - Finds the length of a string"
   ]
  },
  {
   "cell_type": "code",
   "execution_count": 6,
   "metadata": {},
   "outputs": [
    {
     "name": "stdout",
     "output_type": "stream",
     "text": [
      "6\n"
     ]
    }
   ],
   "source": [
    "element = \"Helium\"\n",
    "print(len(element))"
   ]
  },
  {
   "cell_type": "markdown",
   "metadata": {},
   "source": [
    "Nested function are evaluated from the inside out. Find out the length of the variable element, before you print the result."
   ]
  },
  {
   "cell_type": "markdown",
   "metadata": {},
   "source": [
    "## upper() / lower() methods transform strings"
   ]
  },
  {
   "cell_type": "markdown",
   "metadata": {},
   "source": [
    "Methods are similar to functions: object_name.method_name()"
   ]
  },
  {
   "cell_type": "code",
   "execution_count": 1,
   "metadata": {},
   "outputs": [
    {
     "name": "stdout",
     "output_type": "stream",
     "text": [
      "HELIUM\n"
     ]
    }
   ],
   "source": [
    "element = \"helium\"\n",
    "upper_element = element.upper()\n",
    "print(upper_element)"
   ]
  },
  {
   "cell_type": "markdown",
   "metadata": {},
   "source": [
    "# Lists\n",
    "\n",
    "## A list stores many values in a single structure.\n",
    "\n",
    "List = [] > Create a list by assigning brackets to a list name.\n",
    "You can create it with or without values. <br>\n",
    "\n",
    "Use lists to store many values together contained within the square brackets and separated by commas. <br>\n",
    "\n",
    "use len() to find how many values are in the list."
   ]
  },
  {
   "cell_type": "code",
   "execution_count": 2,
   "metadata": {},
   "outputs": [
    {
     "name": "stdout",
     "output_type": "stream",
     "text": [
      "[]\n"
     ]
    }
   ],
   "source": [
    "temperatures = []\n",
    "print(temperatures)"
   ]
  },
  {
   "cell_type": "code",
   "execution_count": 3,
   "metadata": {},
   "outputs": [
    {
     "name": "stdout",
     "output_type": "stream",
     "text": [
      "[17.3, 17.5, 17.7, 17.5, 17.6]\n",
      "length of temperatures list 5\n"
     ]
    }
   ],
   "source": [
    "temperatures = [17.3, 17.5, 17.7, 17.5, 17.6]\n",
    "print(temperatures)\n",
    "print(\"length of temperatures list\", len(temperatures))"
   ]
  },
  {
   "cell_type": "markdown",
   "metadata": {},
   "source": [
    "## Use an item's index to fetch it from a list"
   ]
  },
  {
   "cell_type": "code",
   "execution_count": 4,
   "metadata": {},
   "outputs": [
    {
     "name": "stdout",
     "output_type": "stream",
     "text": [
      "17.3\n",
      "17.6\n"
     ]
    }
   ],
   "source": [
    "print(temperatures[0])\n",
    "print(temperatures[4])"
   ]
  },
  {
   "cell_type": "code",
   "execution_count": 5,
   "metadata": {},
   "outputs": [
    {
     "ename": "IndexError",
     "evalue": "list index out of range",
     "output_type": "error",
     "traceback": [
      "\u001b[1;31m---------------------------------------------------------------------------\u001b[0m",
      "\u001b[1;31mIndexError\u001b[0m                                Traceback (most recent call last)",
      "\u001b[1;32m~\\AppData\\Local\\Temp/ipykernel_24488/2519089241.py\u001b[0m in \u001b[0;36m<module>\u001b[1;34m\u001b[0m\n\u001b[1;32m----> 1\u001b[1;33m \u001b[0mprint\u001b[0m\u001b[1;33m(\u001b[0m\u001b[0mtemperatures\u001b[0m\u001b[1;33m[\u001b[0m\u001b[1;36m5\u001b[0m\u001b[1;33m]\u001b[0m\u001b[1;33m)\u001b[0m\u001b[1;33m\u001b[0m\u001b[1;33m\u001b[0m\u001b[0m\n\u001b[0m",
      "\u001b[1;31mIndexError\u001b[0m: list index out of range"
     ]
    }
   ],
   "source": [
    "print(temperatures[5])"
   ]
  },
  {
   "cell_type": "markdown",
   "metadata": {},
   "source": [
    "## Appending items to a list lengthens it\n",
    "Append is a method of lists. "
   ]
  },
  {
   "cell_type": "code",
   "execution_count": 6,
   "metadata": {},
   "outputs": [
    {
     "name": "stdout",
     "output_type": "stream",
     "text": [
      "[17.3, 17.5, 17.7, 17.5, 17.6, 19.7]\n"
     ]
    }
   ],
   "source": [
    "temperatures = [17.3, 17.5, 17.7, 17.5, 17.6]\n",
    "\n",
    "temperatures.append(19.7)\n",
    "print(temperatures)"
   ]
  },
  {
   "cell_type": "markdown",
   "metadata": {},
   "source": [
    "# Conditionals\n",
    "\n",
    "## Use if statements to control whether or not a block of code is executed\n",
    "\n",
    "if x then: <br>\n",
    "&nbsp;&nbsp;&nbsp;&nbsp;&nbsp;&nbsp;Do a <br>\n",
    "if y then:<br>\n",
    "&nbsp;&nbsp;&nbsp;&nbsp;&nbsp;&nbsp;Do b<br>"
   ]
  },
  {
   "cell_type": "code",
   "execution_count": 7,
   "metadata": {},
   "outputs": [
    {
     "name": "stdout",
     "output_type": "stream",
     "text": [
      "2.97 is smaller\n"
     ]
    }
   ],
   "source": [
    "#mass = 3.54\n",
    "mass = 2.97\n",
    "if mass > 3.0:\n",
    "    print(mass, \"is larger\")\n",
    "if mass < 3.0:\n",
    "    print(mass, \"is smaller\")"
   ]
  },
  {
   "cell_type": "markdown",
   "metadata": {},
   "source": [
    "### note: Indentation is always meaningful in Python"
   ]
  },
  {
   "cell_type": "code",
   "execution_count": 8,
   "metadata": {},
   "outputs": [
    {
     "ename": "IndentationError",
     "evalue": "unexpected indent (Temp/ipykernel_24488/2905914742.py, line 2)",
     "output_type": "error",
     "traceback": [
      "\u001b[1;36m  File \u001b[1;32m\"C:\\Users\\cturp1\\AppData\\Local\\Temp/ipykernel_24488/2905914742.py\"\u001b[1;36m, line \u001b[1;32m2\u001b[0m\n\u001b[1;33m    lastName = \"Smith\"\u001b[0m\n\u001b[1;37m    ^\u001b[0m\n\u001b[1;31mIndentationError\u001b[0m\u001b[1;31m:\u001b[0m unexpected indent\n"
     ]
    }
   ],
   "source": [
    "firstName = \"John\"\n",
    " lastName = \"Smith\""
   ]
  },
  {
   "cell_type": "markdown",
   "metadata": {},
   "source": [
    "## Use else if (elif) to specify additional tests, use else as a catch all at the end\n",
    "\n",
    "Must be associated with an if. MUST come before the else."
   ]
  },
  {
   "cell_type": "code",
   "execution_count": 10,
   "metadata": {},
   "outputs": [
    {
     "name": "stdout",
     "output_type": "stream",
     "text": [
      "4.9 is larger\n"
     ]
    }
   ],
   "source": [
    "mass = 4.9\n",
    "if mass > 9.0:\n",
    "    print(mass, \"is huge\")\n",
    "elif mass > 3.0:\n",
    "    print(mass, \"is larger\")\n",
    "else:\n",
    "    print(mass, \"is smaller\")"
   ]
  },
  {
   "cell_type": "markdown",
   "metadata": {},
   "source": [
    "### conditions are tested once, in order."
   ]
  },
  {
   "cell_type": "code",
   "execution_count": 11,
   "metadata": {},
   "outputs": [
    {
     "name": "stdout",
     "output_type": "stream",
     "text": [
      "Grade is C\n"
     ]
    }
   ],
   "source": [
    "grade = 85\n",
    "\n",
    "if grade >= 70:\n",
    "    print(\"Grade is C\")\n",
    "elif grade >= 80:\n",
    "    print(\"Grade is B\")\n",
    "elif grade >= 90:\n",
    "    print(\"Grade is A\")"
   ]
  },
  {
   "cell_type": "markdown",
   "metadata": {},
   "source": [
    "# For Loops\n",
    "\n",
    "## A for loop executes commands once for each value in a collection"
   ]
  },
  {
   "cell_type": "code",
   "execution_count": 12,
   "metadata": {},
   "outputs": [
    {
     "name": "stdout",
     "output_type": "stream",
     "text": [
      "17.5\n",
      "15.9\n",
      "19.4\n",
      "21.1\n"
     ]
    }
   ],
   "source": [
    "temperature_01 = 17.5\n",
    "temperature_02 = 15.9\n",
    "temperature_03 = 19.4\n",
    "temperature_04 = 21.1\n",
    "\n",
    "print(temperature_01)\n",
    "print(temperature_02)\n",
    "print(temperature_03)\n",
    "print(temperature_04)"
   ]
  },
  {
   "cell_type": "markdown",
   "metadata": {},
   "source": [
    "For each thing in this group, do these operations."
   ]
  },
  {
   "cell_type": "code",
   "execution_count": 13,
   "metadata": {},
   "outputs": [
    {
     "name": "stdout",
     "output_type": "stream",
     "text": [
      "17.5\n",
      "15.9\n",
      "19.4\n",
      "21.2\n"
     ]
    }
   ],
   "source": [
    "for temperature in [17.5, 15.9, 19.4, 21.2]:\n",
    "    print(temperature)"
   ]
  },
  {
   "cell_type": "code",
   "execution_count": 14,
   "metadata": {},
   "outputs": [
    {
     "name": "stdout",
     "output_type": "stream",
     "text": [
      "17.5\n",
      "15.9\n",
      "19.4\n",
      "21.2\n"
     ]
    }
   ],
   "source": [
    "temperatures = [17.5, 15.9, 19.4, 21.2]\n",
    "\n",
    "for current_temperature in temperatures:\n",
    "    print(current_temperature)"
   ]
  },
  {
   "cell_type": "markdown",
   "metadata": {},
   "source": [
    "### Note: the first line must end with a colon, and the body must be indented."
   ]
  },
  {
   "cell_type": "code",
   "execution_count": 15,
   "metadata": {},
   "outputs": [
    {
     "ename": "IndentationError",
     "evalue": "expected an indented block (Temp/ipykernel_24488/1057218122.py, line 4)",
     "output_type": "error",
     "traceback": [
      "\u001b[1;36m  File \u001b[1;32m\"C:\\Users\\cturp1\\AppData\\Local\\Temp/ipykernel_24488/1057218122.py\"\u001b[1;36m, line \u001b[1;32m4\u001b[0m\n\u001b[1;33m    print(current_temperature)\u001b[0m\n\u001b[1;37m    ^\u001b[0m\n\u001b[1;31mIndentationError\u001b[0m\u001b[1;31m:\u001b[0m expected an indented block\n"
     ]
    }
   ],
   "source": [
    "temperatures = [17.5, 15.9, 19.4, 21.2]\n",
    "\n",
    "for current_temperature in temperatures:\n",
    "print(current_temperature)"
   ]
  },
  {
   "cell_type": "markdown",
   "metadata": {},
   "source": [
    "### A foor loop is made up of a collection, a loop variable, and a body"
   ]
  },
  {
   "cell_type": "code",
   "execution_count": 16,
   "metadata": {},
   "outputs": [
    {
     "name": "stdout",
     "output_type": "stream",
     "text": [
      "2\n",
      "3\n",
      "5\n"
     ]
    }
   ],
   "source": [
    "for number in [2,3,5]: # number is the loop variable. [2,3,5] is the collection, what the loop is running on.\n",
    "    print(number) # The body specifies what to do for each value in the collection."
   ]
  },
  {
   "cell_type": "markdown",
   "metadata": {},
   "source": [
    "## Use range to iterate over a sequence of numbers\n",
    "\n",
    "Range is a built-in function that produces a sequence of numbers. It is not a list, they are produced on demand to make looping over large ranges more efficient. <br>\n",
    "range(N)is the numbers 0 to N-1."
   ]
  },
  {
   "cell_type": "code",
   "execution_count": 17,
   "metadata": {},
   "outputs": [
    {
     "name": "stdout",
     "output_type": "stream",
     "text": [
      "0\n",
      "1\n",
      "2\n"
     ]
    }
   ],
   "source": [
    "for number in range(0,3):\n",
    "    print(number)"
   ]
  },
  {
   "cell_type": "markdown",
   "metadata": {},
   "source": [
    "### The accumulator patterns\n",
    "\n",
    "A common pattern in programs:\n",
    "* Initialize an accumulator variable to zero, an empty string or empty list\n",
    "* Update the variable with values from a collection\n"
   ]
  },
  {
   "cell_type": "code",
   "execution_count": 18,
   "metadata": {},
   "outputs": [
    {
     "name": "stdout",
     "output_type": "stream",
     "text": [
      "55\n"
     ]
    }
   ],
   "source": [
    "# sum of the first 10 integers.\n",
    "\n",
    "total = 0 # Accumulator variable\n",
    "for number in range(10):\n",
    "    total = total + (number + 1) # Remember, the range will start at 0.\n",
    "\n",
    "print(total)"
   ]
  },
  {
   "cell_type": "markdown",
   "metadata": {},
   "source": [
    "# Using Libraries"
   ]
  },
  {
   "cell_type": "code",
   "execution_count": 19,
   "metadata": {},
   "outputs": [
    {
     "name": "stdout",
     "output_type": "stream",
     "text": [
      "C:\\Users\\cturp1\\Documents\\BiblioTECH\n"
     ]
    }
   ],
   "source": [
    "import os\n",
    "\n",
    "currentDir = os.getcwd()\n",
    "print(currentDir)"
   ]
  }
 ],
 "metadata": {
  "kernelspec": {
   "display_name": "Python 3 (ipykernel)",
   "language": "python",
   "name": "python3"
  },
  "language_info": {
   "codemirror_mode": {
    "name": "ipython",
    "version": 3
   },
   "file_extension": ".py",
   "mimetype": "text/x-python",
   "name": "python",
   "nbconvert_exporter": "python",
   "pygments_lexer": "ipython3",
   "version": "3.9.7"
  }
 },
 "nbformat": 4,
 "nbformat_minor": 4
}

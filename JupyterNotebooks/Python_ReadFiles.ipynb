{
 "cells": [
  {
   "cell_type": "markdown",
   "metadata": {},
   "source": [
    "# Python script activity\n",
    "\n",
    "This script goes through every file in the Recipes folder, reads lines in this file and returns \"Match found\" with the filename where the word was found if there is a match."
   ]
  },
  {
   "cell_type": "code",
   "execution_count": 3,
   "metadata": {},
   "outputs": [
    {
     "name": "stdout",
     "output_type": "stream",
     "text": [
      "match found 5 times in: The Frog-King.txt\n",
      "match found 3 times in: Wolf_SevenKids.txt\n"
     ]
    }
   ],
   "source": [
    "# import a library\n",
    "import os\n",
    "\n",
    "## Script:\n",
    "\n",
    "currentDir = os.getcwd()\n",
    "filesDir = currentDir + \"\\\\FairyTales\\\\\"\n",
    "\n",
    "#Python method listdir() returns a list of files / folders in the directory given. \n",
    "for filename in os.listdir(filesDir):\n",
    "    \n",
    "    numberOfMatches = 0\n",
    "    currentFile = filesDir + filename\n",
    "    \n",
    "    if filename != \".ipynb_checkpoints\":\n",
    "        myFile = open(currentFile, \"r\", encoding = \"utf-8\", errors = \"ignore\")\n",
    "        reader = myFile.readlines()\n",
    "        for line in reader:\n",
    "            line = line.lower()\n",
    "            if 'sleep' in line: \n",
    "                numberOfMatches = numberOfMatches + 1 \n",
    "        \n",
    "    if numberOfMatches > 0:     \n",
    "        print(\"match found\", numberOfMatches, \"times in:\", filename)\n"
   ]
  },
  {
   "cell_type": "code",
   "execution_count": null,
   "metadata": {},
   "outputs": [],
   "source": []
  }
 ],
 "metadata": {
  "kernelspec": {
   "display_name": "Python 3 (ipykernel)",
   "language": "python",
   "name": "python3"
  },
  "language_info": {
   "codemirror_mode": {
    "name": "ipython",
    "version": 3
   },
   "file_extension": ".py",
   "mimetype": "text/x-python",
   "name": "python",
   "nbconvert_exporter": "python",
   "pygments_lexer": "ipython3",
   "version": "3.9.7"
  }
 },
 "nbformat": 4,
 "nbformat_minor": 4
}

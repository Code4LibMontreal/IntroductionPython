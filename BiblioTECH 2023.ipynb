{
 "cells": [
  {
   "cell_type": "markdown",
   "id": "a7a7959e",
   "metadata": {},
   "source": [
    "# BiblioTECH 2023"
   ]
  },
  {
   "cell_type": "code",
   "execution_count": 3,
   "id": "d74cdd7e",
   "metadata": {},
   "outputs": [
    {
     "name": "stdout",
     "output_type": "stream",
     "text": [
      "Clara Turp is 31 years old\n"
     ]
    }
   ],
   "source": [
    "print(\"Clara Turp is 31 years old\")"
   ]
  },
  {
   "cell_type": "code",
   "execution_count": 5,
   "id": "0dec3912",
   "metadata": {},
   "outputs": [
    {
     "name": "stdout",
     "output_type": "stream",
     "text": [
      "Clara is 31 years old\n"
     ]
    }
   ],
   "source": [
    "age = 31\n",
    "first_name = \"Clara\"\n",
    "print(first_name, \"is\", age, \"years old\")"
   ]
  },
  {
   "cell_type": "markdown",
   "id": "5faad2cb",
   "metadata": {},
   "source": [
    "### Variables can be used in calculations. "
   ]
  },
  {
   "cell_type": "code",
   "execution_count": 6,
   "id": "b30acd65",
   "metadata": {},
   "outputs": [
    {
     "name": "stdout",
     "output_type": "stream",
     "text": [
      "38\n"
     ]
    }
   ],
   "source": [
    "age = 35\n",
    "print(age + 3)"
   ]
  },
  {
   "cell_type": "code",
   "execution_count": 7,
   "id": "94996456",
   "metadata": {},
   "outputs": [
    {
     "name": "stdout",
     "output_type": "stream",
     "text": [
      "38\n"
     ]
    }
   ],
   "source": [
    "age = 35\n",
    "age = age + 3\n",
    "print(age)\n"
   ]
  },
  {
   "cell_type": "code",
   "execution_count": 8,
   "id": "dc2b24a9",
   "metadata": {},
   "outputs": [
    {
     "name": "stdout",
     "output_type": "stream",
     "text": [
      "35 38\n"
     ]
    }
   ],
   "source": [
    "age = 35\n",
    "age_plus_three = age + 3\n",
    "print(age, age_plus_three)"
   ]
  },
  {
   "cell_type": "markdown",
   "id": "5b03c17a",
   "metadata": {},
   "source": [
    "## Built-in Functions and Methods"
   ]
  },
  {
   "cell_type": "markdown",
   "id": "a3e7f079",
   "metadata": {},
   "source": [
    "Len() is a built-in function that finds the length of a string"
   ]
  },
  {
   "cell_type": "code",
   "execution_count": 10,
   "id": "23416e03",
   "metadata": {},
   "outputs": [
    {
     "name": "stdout",
     "output_type": "stream",
     "text": [
      "6\n"
     ]
    }
   ],
   "source": [
    "element = \"Helium\"\n",
    "print(len(element)) # This is an example of a nested function"
   ]
  },
  {
   "cell_type": "markdown",
   "id": "63440c70",
   "metadata": {},
   "source": [
    "### Method\n",
    "\n",
    "Methods are similar to functions, but they are tied to an object (string) <br>\n",
    "object_name.method_name()"
   ]
  },
  {
   "cell_type": "code",
   "execution_count": 11,
   "id": "19d91304",
   "metadata": {},
   "outputs": [
    {
     "name": "stdout",
     "output_type": "stream",
     "text": [
      "HELIUM\n"
     ]
    }
   ],
   "source": [
    "element = \"Helium\"\n",
    "upper_element = element.upper()\n",
    "print(upper_element)"
   ]
  },
  {
   "cell_type": "code",
   "execution_count": 12,
   "id": "23b744af",
   "metadata": {},
   "outputs": [
    {
     "name": "stdout",
     "output_type": "stream",
     "text": [
      "helieumms\n"
     ]
    }
   ],
   "source": [
    "element = \"HELIEUMMS\"\n",
    "lower_element = element.lower()\n",
    "print(lower_element)"
   ]
  },
  {
   "cell_type": "code",
   "execution_count": 13,
   "id": "274f326b",
   "metadata": {},
   "outputs": [
    {
     "name": "stdout",
     "output_type": "stream",
     "text": [
      "hello people, i am learning pythonn\n"
     ]
    }
   ],
   "source": [
    "#Create a variable python and assign it a phrase. Then use the lower method to transform all words in lowercase\n",
    "#Print the results\n",
    "\n",
    "python = \"HelLO PeoPLE, I AM learnInG PYTHONN\"\n",
    "lower_python = python.lower()\n",
    "print(lower_python)"
   ]
  },
  {
   "cell_type": "markdown",
   "id": "db379b98",
   "metadata": {},
   "source": [
    "## Lists"
   ]
  },
  {
   "cell_type": "code",
   "execution_count": 14,
   "id": "df795cdc",
   "metadata": {},
   "outputs": [
    {
     "name": "stdout",
     "output_type": "stream",
     "text": [
      "39.2 25.8\n"
     ]
    }
   ],
   "source": [
    "temperature_001 = 39.2\n",
    "temperature_002 = 25.8\n",
    "temperature_003 = 27.1\n",
    "print(temperature_001, temperature_002)"
   ]
  },
  {
   "cell_type": "code",
   "execution_count": 15,
   "id": "19f7ccc8",
   "metadata": {},
   "outputs": [
    {
     "name": "stdout",
     "output_type": "stream",
     "text": [
      "[]\n"
     ]
    }
   ],
   "source": [
    "#Use a list to store many values together. Each value is separated with a comma.\n",
    "temperatures = [] #square brackets are the symbol that tells Python I am now dealing with a list.\n",
    "print(temperatures)"
   ]
  },
  {
   "cell_type": "code",
   "execution_count": 18,
   "id": "f78803ab",
   "metadata": {},
   "outputs": [
    {
     "name": "stdout",
     "output_type": "stream",
     "text": [
      "[17.3, 17.5, 17.7, 18.3, 23.6, 28.9]\n",
      "6\n"
     ]
    }
   ],
   "source": [
    "temperatures = [17.3, 17.5, 17.7, 18.3, 23.6, 28.9]\n",
    "print(temperatures)\n",
    "print(len(temperatures))"
   ]
  },
  {
   "cell_type": "markdown",
   "id": "bf891690",
   "metadata": {},
   "source": [
    "### Use an item's index to fetch it from a list"
   ]
  },
  {
   "cell_type": "code",
   "execution_count": 23,
   "id": "c2b52bcd",
   "metadata": {},
   "outputs": [
    {
     "name": "stdout",
     "output_type": "stream",
     "text": [
      "17.3\n",
      "23.6\n",
      "28.9\n"
     ]
    }
   ],
   "source": [
    "temperatures = [17.3, 17.5, 17.7, 18.3, 23.6, 28.9]\n",
    "print(temperatures[0]) #indexes start counting from 0\n",
    "print(temperatures[4])\n",
    "print(temperatures[5])"
   ]
  },
  {
   "cell_type": "markdown",
   "id": "b1ba0fdc",
   "metadata": {},
   "source": [
    "Exercise: Return the last letter of a string using len(). Please remember Python starts counting from 0"
   ]
  },
  {
   "cell_type": "code",
   "execution_count": 28,
   "id": "a01afded",
   "metadata": {},
   "outputs": [
    {
     "name": "stdout",
     "output_type": "stream",
     "text": [
      "n\n"
     ]
    }
   ],
   "source": [
    "name = \"Carolyn\"\n",
    "character = name[len(name) -1]\n",
    "print(character)"
   ]
  },
  {
   "cell_type": "markdown",
   "id": "61e25f32",
   "metadata": {},
   "source": [
    "### Appending items to a list"
   ]
  },
  {
   "cell_type": "code",
   "execution_count": 29,
   "id": "905edcc3",
   "metadata": {},
   "outputs": [
    {
     "name": "stdout",
     "output_type": "stream",
     "text": [
      "[17.3, 17.5, 17.7, 18.9, 21.4, 19.7]\n"
     ]
    }
   ],
   "source": [
    "temperatures = [17.3, 17.5, 17.7, 18.9, 21.4]\n",
    "temperatures.append(19.7)\n",
    "print(temperatures)"
   ]
  },
  {
   "cell_type": "markdown",
   "id": "4f300e29",
   "metadata": {},
   "source": [
    "## Conditionals"
   ]
  },
  {
   "cell_type": "markdown",
   "id": "e471bf12",
   "metadata": {},
   "source": [
    "if x then: > x is the condition <br>\n",
    "     do A <br>\n",
    "if y then:<br> Usually conditionals use < , >, == (equal), != (not equal)\n",
    "     do B <br>"
   ]
  },
  {
   "cell_type": "code",
   "execution_count": 34,
   "id": "66144ced",
   "metadata": {},
   "outputs": [
    {
     "name": "stdout",
     "output_type": "stream",
     "text": [
      "3.56 is larger\n",
      "hello\n"
     ]
    }
   ],
   "source": [
    "mass = 3.56\n",
    "if mass > 3.0: # Floating point number (float)\n",
    "    print(mass, \"is larger\")\n",
    "    print(\"hello\")\n",
    "if mass < 3.0:\n",
    "    print(mass, \"is smaller\") # INDENTING IS ESSENTIAL"
   ]
  },
  {
   "cell_type": "code",
   "execution_count": 35,
   "id": "21bf81b4",
   "metadata": {},
   "outputs": [
    {
     "name": "stdout",
     "output_type": "stream",
     "text": [
      "B\n"
     ]
    }
   ],
   "source": [
    "grade = 78\n",
    "\n",
    "if grade < 80:\n",
    "    grade = \"B\"\n",
    "    print(grade)"
   ]
  },
  {
   "cell_type": "markdown",
   "id": "7acb4aa9",
   "metadata": {},
   "source": [
    "### elif (else if) to specify additional tests and else to execute a block of code when no condition is met (catch all)"
   ]
  },
  {
   "cell_type": "code",
   "execution_count": 37,
   "id": "3ddec7b3",
   "metadata": {},
   "outputs": [
    {
     "name": "stdout",
     "output_type": "stream",
     "text": [
      "9.7 is huge!\n"
     ]
    }
   ],
   "source": [
    "mass = 9.7\n",
    "if mass > 9.0: # if is the keyword for conditionals. Always start with if\n",
    "    print(mass, \"is huge!\")\n",
    "elif mass > 3.0: # if the first condition WASN'T met\n",
    "    print(mass, \"is large\")\n",
    "else: # only write else. catch all, if all other conditions returned false.\n",
    "    print(mass, \"is small\")"
   ]
  },
  {
   "cell_type": "code",
   "execution_count": 39,
   "id": "b6220e38",
   "metadata": {},
   "outputs": [
    {
     "name": "stdout",
     "output_type": "stream",
     "text": [
      "Grade is B\n"
     ]
    }
   ],
   "source": [
    "grade = 85\n",
    "\n",
    "if grade >= 90:\n",
    "    print(\"Grade is A\")\n",
    "elif grade >= 80:\n",
    "    print(\"Grade is B\")\n",
    "elif grade >= 70:\n",
    "    print(\"Grade is C\")"
   ]
  },
  {
   "cell_type": "markdown",
   "id": "2dbc5f85",
   "metadata": {},
   "source": [
    "# For Loops"
   ]
  },
  {
   "cell_type": "markdown",
   "id": "32741b0e",
   "metadata": {},
   "source": [
    "A for loop executes commands once for each value in a collection."
   ]
  },
  {
   "cell_type": "code",
   "execution_count": 41,
   "id": "d44ec2a6",
   "metadata": {},
   "outputs": [
    {
     "name": "stdout",
     "output_type": "stream",
     "text": [
      "17.5 18.9 24.5\n"
     ]
    }
   ],
   "source": [
    "temperature_01 = 17.5\n",
    "temperature_02 = 18.9\n",
    "temperature_03 = 24.5\n",
    "\n",
    "print(temperature_01, temperature_02, temperature_03)"
   ]
  },
  {
   "cell_type": "code",
   "execution_count": 45,
   "id": "07c7f72e",
   "metadata": {},
   "outputs": [
    {
     "name": "stdout",
     "output_type": "stream",
     "text": [
      "17.5\n",
      "18.9\n",
      "24.5\n",
      "18.7\n",
      "finish\n"
     ]
    }
   ],
   "source": [
    "for temperature in [17.5, 18.9, 24.5, 18.7]: #for is the keyword. temperature = loop variable, Collection [list].\n",
    "    print(temperature) # Body of the loop\n",
    "    #imaginary +1 here\n",
    "print(\"finish\")"
   ]
  },
  {
   "cell_type": "code",
   "execution_count": null,
   "id": "bd8d55ce",
   "metadata": {},
   "outputs": [],
   "source": [
    "# Loops need: for keyword, loop variable, the collection, and the body of the loop. You also need the in and the colon"
   ]
  },
  {
   "cell_type": "code",
   "execution_count": 47,
   "id": "874b0788",
   "metadata": {},
   "outputs": [
    {
     "name": "stdout",
     "output_type": "stream",
     "text": [
      "2\n",
      "4\n",
      "5\n",
      "25\n",
      "7\n",
      "49\n",
      "8\n",
      "64\n",
      "10\n",
      "100\n"
     ]
    }
   ],
   "source": [
    "collection_of_numbers = [2, 5, 7, 8, 10]\n",
    "for number in collection_of_numbers:\n",
    "    squared_number = number**2\n",
    "    print(number, squared_number)"
   ]
  },
  {
   "cell_type": "code",
   "execution_count": 51,
   "id": "fcf89d5e",
   "metadata": {},
   "outputs": [
    {
     "name": "stdout",
     "output_type": "stream",
     "text": [
      "0\n",
      "1\n",
      "2\n"
     ]
    }
   ],
   "source": [
    "for number in range(3): # range is a built-in function that produces a sequence of numbers. range(N) = 0, N-1\n",
    "    print(number)"
   ]
  },
  {
   "cell_type": "code",
   "execution_count": 52,
   "id": "598d5561",
   "metadata": {},
   "outputs": [
    {
     "name": "stdout",
     "output_type": "stream",
     "text": [
      "YEAH\n",
      "YEAH\n",
      "YEAH\n",
      "YEAH\n",
      "YEAH\n"
     ]
    }
   ],
   "source": [
    "for time in range(5):\n",
    "    print(\"YEAH\")"
   ]
  },
  {
   "cell_type": "markdown",
   "id": "c8e99d62",
   "metadata": {},
   "source": [
    "### Accumulator Pattern"
   ]
  },
  {
   "cell_type": "code",
   "execution_count": 55,
   "id": "f1a899b8",
   "metadata": {},
   "outputs": [
    {
     "name": "stdout",
     "output_type": "stream",
     "text": [
      "55\n"
     ]
    }
   ],
   "source": [
    "# sum of the first 10 integers\n",
    "\n",
    "total = 0 # accumulator variable\n",
    "\n",
    "for number in range(10):\n",
    "    total = total + (number + 1)\n",
    "\n",
    "print(total)"
   ]
  },
  {
   "cell_type": "markdown",
   "id": "49675076",
   "metadata": {},
   "source": [
    "## Using Libraries"
   ]
  },
  {
   "cell_type": "code",
   "execution_count": 56,
   "id": "8ce0d475",
   "metadata": {},
   "outputs": [
    {
     "name": "stdout",
     "output_type": "stream",
     "text": [
      "C:\\Users\\cturp1\\Desktop\\Python2023\n"
     ]
    }
   ],
   "source": [
    "#import a library\n",
    "import os\n",
    "\n",
    "currentDir = os.getcwd() #libraryname.function()\n",
    "print(currentDir)"
   ]
  },
  {
   "cell_type": "code",
   "execution_count": null,
   "id": "8fa85309",
   "metadata": {},
   "outputs": [],
   "source": []
  }
 ],
 "metadata": {
  "kernelspec": {
   "display_name": "Python 3 (ipykernel)",
   "language": "python",
   "name": "python3"
  },
  "language_info": {
   "codemirror_mode": {
    "name": "ipython",
    "version": 3
   },
   "file_extension": ".py",
   "mimetype": "text/x-python",
   "name": "python",
   "nbconvert_exporter": "python",
   "pygments_lexer": "ipython3",
   "version": "3.9.7"
  }
 },
 "nbformat": 4,
 "nbformat_minor": 5
}
